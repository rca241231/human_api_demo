{
 "cells": [
  {
   "cell_type": "markdown",
   "metadata": {},
   "source": [
    "# Question Prompt\n",
    "\n",
    "Product would like to figure out if it'd be viable to offer customers a feature which predicts whether or not \n",
    "a person will get diabetes.  Your task is to make a recommendation (with justifications) as to whether or not we \n",
    "should pursue this as a business, as well as give an idea of what additional work is required and how long it would \n",
    "take.\n",
    "\n",
    "Product would like the following deliverables:\n",
    "- recommendation with justifications\n",
    "- Jupyter notebook with work done to land at the recommendation \n",
    "- description of any additional work required and how long it would take\n",
    "- Bonus #1: describe how you would take your work to production (i.e. have your work in a form consumable by customers)\n",
    "- Bonus #2: working prototype of what your production-ready project would resemble that we can run on our laptops\n",
    "\n",
    "Dataset to be used is attached."
   ]
  },
  {
   "cell_type": "markdown",
   "metadata": {},
   "source": [
    "# To start:\n",
    "\n",
    "- We need to check against the data as to whether we need to do any treatment\n",
    "- Then we need to figure out if a model will perform reasonably well against the sampled data\n",
    "- In the first trial, I will be running the model against an ANN classification model as I've worked with ANN in the past and it achieved a very high accuracy and good performance."
   ]
  },
  {
   "cell_type": "markdown",
   "metadata": {},
   "source": [
    "# Step 1 Import Data"
   ]
  },
  {
   "cell_type": "code",
   "execution_count": 1,
   "metadata": {},
   "outputs": [],
   "source": [
    "# Part 1 - Loading data and data cleaning\n",
    "# Loading dataset\n",
    "import numpy as np\n",
    "import pandas as pd\n",
    "\n",
    "# Importing the dataset\n",
    "dataset = pd.read_csv('diabetes.csv')\n",
    "        \n",
    "# Replace with average age\n",
    "X = dataset.iloc[:, 0:8].values\n",
    "y = dataset.iloc[:, 8].values"
   ]
  },
  {
   "cell_type": "markdown",
   "metadata": {},
   "source": [
    "# Step 2 Check the nature of the data"
   ]
  },
  {
   "cell_type": "code",
   "execution_count": 46,
   "metadata": {},
   "outputs": [
    {
     "data": {
      "text/html": [
       "<div>\n",
       "<style scoped>\n",
       "    .dataframe tbody tr th:only-of-type {\n",
       "        vertical-align: middle;\n",
       "    }\n",
       "\n",
       "    .dataframe tbody tr th {\n",
       "        vertical-align: top;\n",
       "    }\n",
       "\n",
       "    .dataframe thead th {\n",
       "        text-align: right;\n",
       "    }\n",
       "</style>\n",
       "<table border=\"1\" class=\"dataframe\">\n",
       "  <thead>\n",
       "    <tr style=\"text-align: right;\">\n",
       "      <th></th>\n",
       "      <th>Pregnancies</th>\n",
       "      <th>Glucose</th>\n",
       "      <th>BloodPressure</th>\n",
       "      <th>SkinThickness</th>\n",
       "      <th>Insulin</th>\n",
       "      <th>BMI</th>\n",
       "      <th>DiabetesPedigreeFunction</th>\n",
       "      <th>Age</th>\n",
       "    </tr>\n",
       "    <tr>\n",
       "      <th>Outcome</th>\n",
       "      <th></th>\n",
       "      <th></th>\n",
       "      <th></th>\n",
       "      <th></th>\n",
       "      <th></th>\n",
       "      <th></th>\n",
       "      <th></th>\n",
       "      <th></th>\n",
       "    </tr>\n",
       "  </thead>\n",
       "  <tbody>\n",
       "    <tr>\n",
       "      <th>0</th>\n",
       "      <td>500</td>\n",
       "      <td>500</td>\n",
       "      <td>500</td>\n",
       "      <td>500</td>\n",
       "      <td>500</td>\n",
       "      <td>500</td>\n",
       "      <td>500</td>\n",
       "      <td>500</td>\n",
       "    </tr>\n",
       "    <tr>\n",
       "      <th>1</th>\n",
       "      <td>268</td>\n",
       "      <td>268</td>\n",
       "      <td>268</td>\n",
       "      <td>268</td>\n",
       "      <td>268</td>\n",
       "      <td>268</td>\n",
       "      <td>268</td>\n",
       "      <td>268</td>\n",
       "    </tr>\n",
       "  </tbody>\n",
       "</table>\n",
       "</div>"
      ],
      "text/plain": [
       "         Pregnancies  Glucose  BloodPressure  SkinThickness  Insulin  BMI  \\\n",
       "Outcome                                                                     \n",
       "0                500      500            500            500      500  500   \n",
       "1                268      268            268            268      268  268   \n",
       "\n",
       "         DiabetesPedigreeFunction  Age  \n",
       "Outcome                                 \n",
       "0                             500  500  \n",
       "1                             268  268  "
      ]
     },
     "execution_count": 46,
     "metadata": {},
     "output_type": "execute_result"
    }
   ],
   "source": [
    "# Part 1 - Check the nature of data\n",
    "dataset.groupby('Outcome').count()"
   ]
  },
  {
   "cell_type": "markdown",
   "metadata": {},
   "source": [
    "Since the data has 500 negatives and 268 positives (35% positive, 65% negative), we don't really issue with unbalanced\n",
    "data. Hence we would not need to have upsampling or downsampling or bootstrapping."
   ]
  },
  {
   "cell_type": "markdown",
   "metadata": {},
   "source": [
    "# Step 3 Divide data into train and test"
   ]
  },
  {
   "cell_type": "code",
   "execution_count": 47,
   "metadata": {},
   "outputs": [],
   "source": [
    "# Splitting the dataset into the Training set and Test set\n",
    "from sklearn.model_selection import train_test_split\n",
    "X_train, X_test, y_train, y_test = train_test_split(X, y, test_size = 0.25, random_state = 0)\n",
    "\n",
    "# Feature Scaling\n",
    "from sklearn.preprocessing import StandardScaler\n",
    "sc = StandardScaler()\n",
    "X_train = sc.fit_transform(X_train)\n",
    "X_test = sc.fit_transform(X_test)"
   ]
  },
  {
   "cell_type": "code",
   "execution_count": 4,
   "metadata": {},
   "outputs": [
    {
     "name": "stderr",
     "output_type": "stream",
     "text": [
      "/anaconda3/lib/python3.6/site-packages/h5py/__init__.py:36: FutureWarning: Conversion of the second argument of issubdtype from `float` to `np.floating` is deprecated. In future, it will be treated as `np.float64 == np.dtype(float).type`.\n",
      "  from ._conv import register_converters as _register_converters\n",
      "Using TensorFlow backend.\n"
     ]
    }
   ],
   "source": [
    "# Part 2 - Build model / Parameter Tuning using GridSearch\n",
    "import keras\n",
    "from keras.models import Sequential\n",
    "from keras.layers import Dense\n",
    "from keras.layers import Dropout\n",
    "\n",
    "# Keras classifier wrapper\n",
    "from keras.wrappers.scikit_learn import KerasClassifier\n",
    "from sklearn.model_selection import cross_val_score\n",
    "from keras.wrappers.scikit_learn import KerasClassifier\n",
    "from sklearn.model_selection import GridSearchCV"
   ]
  },
  {
   "cell_type": "code",
   "execution_count": 5,
   "metadata": {},
   "outputs": [],
   "source": [
    "def build_classifier(optimizer):\n",
    "    # Initialize ANN\n",
    "    classifier = Sequential()\n",
    "\n",
    "    # First hidden layer with 10% dropout\n",
    "    classifier.add(Dense(activation=\"relu\", input_dim=8, units=4, kernel_initializer=\"uniform\"))\n",
    "    classifier.add(Dropout(rate=0.3))\n",
    "\n",
    "    # The second hidden layer with 10% dropout\n",
    "    classifier.add(Dense(activation=\"relu\", units=4, kernel_initializer=\"uniform\"))\n",
    "    classifier.add(Dropout(rate=0.3))\n",
    "\n",
    "    # Adding the output layer\n",
    "    classifier.add(Dense(activation=\"sigmoid\", units=1, kernel_initializer=\"uniform\"))\n",
    "\n",
    "    # Compiling the ANN\n",
    "    classifier.compile(\n",
    "        optimizer=optimizer, # efficient SGD\n",
    "        loss='binary_crossentropy',\n",
    "        metrics=['accuracy']\n",
    "    )\n",
    "    return classifier"
   ]
  },
  {
   "cell_type": "code",
   "execution_count": 6,
   "metadata": {},
   "outputs": [
    {
     "name": "stdout",
     "output_type": "stream",
     "text": [
      "Epoch 1/1\n",
      "518/518 [==============================] - 0s 875us/step - loss: 0.6919 - acc: 0.6351\n",
      "Epoch 1/1\n",
      "518/518 [==============================] - 1s 974us/step - loss: 0.6917 - acc: 0.6429\n",
      "Epoch 1/1\n",
      "518/518 [==============================] - 1s 984us/step - loss: 0.6920 - acc: 0.6371\n",
      "Epoch 1/1\n",
      "518/518 [==============================] - 1s 1ms/step - loss: 0.6913 - acc: 0.6544\n",
      "Epoch 1/1\n",
      "518/518 [==============================] - 1s 1ms/step - loss: 0.6920 - acc: 0.6390\n",
      "Epoch 1/1\n",
      "518/518 [==============================] - 1s 1ms/step - loss: 0.6919 - acc: 0.6486\n",
      "Epoch 1/1\n",
      "519/519 [==============================] - 1s 2ms/step - loss: 0.6918 - acc: 0.6416\n",
      "Epoch 1/1\n",
      "519/519 [==============================] - 1s 2ms/step - loss: 0.6918 - acc: 0.6435\n",
      "Epoch 1/1\n",
      "519/519 [==============================] - 1s 2ms/step - loss: 0.6917 - acc: 0.6281\n",
      "Epoch 1/1\n",
      "519/519 [==============================] - 1s 1ms/step - loss: 0.6920 - acc: 0.6358\n",
      "Epoch 1/1\n",
      "518/518 [==============================] - 1s 2ms/step - loss: 0.6912 - acc: 0.6390\n",
      "Epoch 1/1\n",
      "518/518 [==============================] - 1s 1ms/step - loss: 0.6912 - acc: 0.6332\n",
      "Epoch 1/1\n",
      "518/518 [==============================] - 1s 2ms/step - loss: 0.6914 - acc: 0.6332\n",
      "Epoch 1/1\n",
      "518/518 [==============================] - 1s 2ms/step - loss: 0.6906 - acc: 0.6564\n",
      "Epoch 1/1\n",
      "518/518 [==============================] - 1s 2ms/step - loss: 0.6912 - acc: 0.6293\n",
      "Epoch 1/1\n",
      "518/518 [==============================] - 1s 2ms/step - loss: 0.6909 - acc: 0.6429\n",
      "Epoch 1/1\n",
      "519/519 [==============================] - 1s 2ms/step - loss: 0.6911 - acc: 0.6455\n",
      "Epoch 1/1\n",
      "519/519 [==============================] - 1s 2ms/step - loss: 0.6914 - acc: 0.6378\n",
      "Epoch 1/1\n",
      "519/519 [==============================] - 1s 2ms/step - loss: 0.6909 - acc: 0.6378\n",
      "Epoch 1/1\n",
      "519/519 [==============================] - 1s 2ms/step - loss: 0.6911 - acc: 0.6416\n",
      "Epoch 1/1\n",
      "518/518 [==============================] - 1s 2ms/step - loss: 0.6918 - acc: 0.6274\n",
      "Epoch 1/1\n",
      "518/518 [==============================] - 1s 2ms/step - loss: 0.6920 - acc: 0.6255\n",
      "Epoch 1/1\n",
      "518/518 [==============================] - 1s 2ms/step - loss: 0.6919 - acc: 0.6371\n",
      "Epoch 1/1\n",
      "518/518 [==============================] - 1s 2ms/step - loss: 0.6918 - acc: 0.6390\n",
      "Epoch 1/1\n",
      "518/518 [==============================] - 1s 2ms/step - loss: 0.6918 - acc: 0.6351\n",
      "Epoch 1/1\n",
      "518/518 [==============================] - 1s 2ms/step - loss: 0.6919 - acc: 0.6351\n",
      "Epoch 1/1\n",
      "519/519 [==============================] - 1s 2ms/step - loss: 0.6919 - acc: 0.6243\n",
      "Epoch 1/1\n",
      "519/519 [==============================] - 1s 2ms/step - loss: 0.6920 - acc: 0.6243\n",
      "Epoch 1/1\n",
      "519/519 [==============================] - 1s 2ms/step - loss: 0.6918 - acc: 0.6378\n",
      "Epoch 1/1\n",
      "519/519 [==============================] - 2s 3ms/step - loss: 0.6919 - acc: 0.6378\n",
      "Epoch 1/1\n",
      "518/518 [==============================] - 1s 3ms/step - loss: 0.6909 - acc: 0.6390\n",
      "Epoch 1/1\n",
      "518/518 [==============================] - 1s 3ms/step - loss: 0.6910 - acc: 0.6236\n",
      "Epoch 1/1\n",
      "518/518 [==============================] - 1s 2ms/step - loss: 0.6910 - acc: 0.6313\n",
      "Epoch 1/1\n",
      "518/518 [==============================] - 1s 3ms/step - loss: 0.6912 - acc: 0.6390\n",
      "Epoch 1/1\n",
      "518/518 [==============================] - 1s 3ms/step - loss: 0.6915 - acc: 0.6100\n",
      "Epoch 1/1\n",
      "518/518 [==============================] - 1s 2ms/step - loss: 0.6906 - acc: 0.6448\n",
      "Epoch 1/1\n",
      "519/519 [==============================] - 1s 2ms/step - loss: 0.6908 - acc: 0.6397\n",
      "Epoch 1/1\n",
      "519/519 [==============================] - 1s 3ms/step - loss: 0.6912 - acc: 0.6262\n",
      "Epoch 1/1\n",
      "519/519 [==============================] - 1s 3ms/step - loss: 0.6907 - acc: 0.6455\n",
      "Epoch 1/1\n",
      "519/519 [==============================] - 1s 3ms/step - loss: 0.6914 - acc: 0.6455\n",
      "Epoch 1/1\n",
      "518/518 [==============================] - 2s 3ms/step - loss: 0.6922 - acc: 0.6351\n",
      "Epoch 1/1\n",
      "518/518 [==============================] - 2s 3ms/step - loss: 0.6922 - acc: 0.6409\n",
      "Epoch 1/1\n",
      "518/518 [==============================] - 2s 3ms/step - loss: 0.6922 - acc: 0.6467\n",
      "Epoch 1/1\n",
      "518/518 [==============================] - 2s 3ms/step - loss: 0.6921 - acc: 0.6409\n",
      "Epoch 1/1\n",
      "518/518 [==============================] - 2s 3ms/step - loss: 0.6921 - acc: 0.6216\n",
      "Epoch 1/1\n",
      "518/518 [==============================] - 2s 3ms/step - loss: 0.6922 - acc: 0.6332\n",
      "Epoch 1/1\n",
      "519/519 [==============================] - 2s 3ms/step - loss: 0.6921 - acc: 0.6416\n",
      "Epoch 1/1\n",
      "519/519 [==============================] - 2s 3ms/step - loss: 0.6922 - acc: 0.6358\n",
      "Epoch 1/1\n",
      "519/519 [==============================] - 2s 3ms/step - loss: 0.6922 - acc: 0.6378\n",
      "Epoch 1/1\n",
      "519/519 [==============================] - 2s 4ms/step - loss: 0.6920 - acc: 0.6397\n",
      "Epoch 1/1\n",
      "518/518 [==============================] - 2s 4ms/step - loss: 0.6910 - acc: 0.6409\n",
      "Epoch 1/1\n",
      "518/518 [==============================] - 2s 4ms/step - loss: 0.6914 - acc: 0.6371\n",
      "Epoch 1/1\n",
      "518/518 [==============================] - 2s 5ms/step - loss: 0.6913 - acc: 0.6313\n",
      "Epoch 1/1\n",
      "518/518 [==============================] - 2s 4ms/step - loss: 0.6915 - acc: 0.6371\n",
      "Epoch 1/1\n",
      "518/518 [==============================] - 2s 3ms/step - loss: 0.6921 - acc: 0.6139\n",
      "Epoch 1/1\n",
      "518/518 [==============================] - 2s 4ms/step - loss: 0.6914 - acc: 0.6293\n",
      "Epoch 1/1\n",
      "519/519 [==============================] - 2s 4ms/step - loss: 0.6919 - acc: 0.6243\n",
      "Epoch 1/1\n",
      "519/519 [==============================] - 2s 4ms/step - loss: 0.6915 - acc: 0.6358\n",
      "Epoch 1/1\n",
      "519/519 [==============================] - 2s 4ms/step - loss: 0.6913 - acc: 0.6243\n",
      "Epoch 1/1\n",
      "519/519 [==============================] - 2s 4ms/step - loss: 0.6913 - acc: 0.6358\n",
      "Epoch 1/1\n",
      "518/518 [==============================] - 2s 4ms/step - loss: 0.6922 - acc: 0.6409\n",
      "Epoch 1/1\n",
      "518/518 [==============================] - 2s 5ms/step - loss: 0.6920 - acc: 0.6429\n",
      "Epoch 1/1\n",
      "518/518 [==============================] - 3s 5ms/step - loss: 0.6921 - acc: 0.6332\n",
      "Epoch 1/1\n",
      "518/518 [==============================] - 2s 4ms/step - loss: 0.6919 - acc: 0.6486\n",
      "Epoch 1/1\n",
      "518/518 [==============================] - 2s 4ms/step - loss: 0.6921 - acc: 0.6313\n",
      "Epoch 1/1\n",
      "518/518 [==============================] - 2s 4ms/step - loss: 0.6921 - acc: 0.6448\n",
      "Epoch 1/1\n",
      "519/519 [==============================] - 2s 4ms/step - loss: 0.6921 - acc: 0.6378\n",
      "Epoch 1/1\n",
      "519/519 [==============================] - 2s 4ms/step - loss: 0.6923 - acc: 0.6378\n",
      "Epoch 1/1\n",
      "519/519 [==============================] - 2s 4ms/step - loss: 0.6923 - acc: 0.6089\n",
      "Epoch 1/1\n",
      "519/519 [==============================] - 2s 4ms/step - loss: 0.6921 - acc: 0.6416\n",
      "Epoch 1/1\n",
      "518/518 [==============================] - 2s 5ms/step - loss: 0.6908 - acc: 0.6409\n",
      "Epoch 1/1\n",
      "518/518 [==============================] - 2s 4ms/step - loss: 0.6910 - acc: 0.6409\n",
      "Epoch 1/1\n",
      "518/518 [==============================] - 2s 5ms/step - loss: 0.6911 - acc: 0.6313\n",
      "Epoch 1/1\n",
      "518/518 [==============================] - 2s 5ms/step - loss: 0.6912 - acc: 0.6371\n",
      "Epoch 1/1\n",
      "518/518 [==============================] - 2s 5ms/step - loss: 0.6917 - acc: 0.6371\n",
      "Epoch 1/1\n",
      "518/518 [==============================] - 3s 5ms/step - loss: 0.6914 - acc: 0.6274\n",
      "Epoch 1/1\n",
      "519/519 [==============================] - 2s 5ms/step - loss: 0.6915 - acc: 0.6320\n",
      "Epoch 1/1\n",
      "519/519 [==============================] - 3s 5ms/step - loss: 0.6908 - acc: 0.6416\n",
      "Epoch 1/1\n",
      "519/519 [==============================] - 3s 5ms/step - loss: 0.6915 - acc: 0.6320\n",
      "Epoch 1/1\n",
      "519/519 [==============================] - 3s 5ms/step - loss: 0.6912 - acc: 0.6416\n",
      "Epoch 1/1\n",
      "576/576 [==============================] - 3s 6ms/step - loss: 0.6919 - acc: 0.6406\n"
     ]
    }
   ],
   "source": [
    "classifier = KerasClassifier(build_fn=build_classifier)\n",
    "\n",
    "# Create a dict of hyperparameters to optimize\n",
    "parameters = {\n",
    "    # Tune batch size, epoch, optimizer\n",
    "    'batch_size': [25, 32],\n",
    "    'nb_epoch': [100, 200, 300],\n",
    "    'optimizer': ['adam', 'rmsprop']\n",
    "}\n",
    "\n",
    "# Implement GridSearch\n",
    "grid_search = GridSearchCV(\n",
    "    estimator=classifier,\n",
    "    param_grid=parameters,\n",
    "    scoring='accuracy',\n",
    "    cv=10\n",
    ")\n",
    "\n",
    "# Fit gridsearch to training set\n",
    "grid_search = grid_search.fit(\n",
    "    X_train,\n",
    "    y_train\n",
    ")\n",
    "\n",
    "# Capture best param and accuracy\n",
    "best_parameters = grid_search.best_params_\n",
    "best_accuracy = grid_search.best_score_"
   ]
  },
  {
   "cell_type": "code",
   "execution_count": 40,
   "metadata": {},
   "outputs": [
    {
     "name": "stdout",
     "output_type": "stream",
     "text": [
      "{'batch_size': 25, 'nb_epoch': 100, 'optimizer': 'adam'}\n",
      "0.6423611111111112\n"
     ]
    }
   ],
   "source": [
    "# Print best accuracy\n",
    "print(best_parameters)\n",
    "print(best_accuracy)"
   ]
  },
  {
   "cell_type": "code",
   "execution_count": 41,
   "metadata": {},
   "outputs": [
    {
     "name": "stdout",
     "output_type": "stream",
     "text": [
      "[[130   0]\n",
      " [ 62   0]]\n"
     ]
    }
   ],
   "source": [
    "# Part 3 - Making the prediction and print accuracy\n",
    "y_pred = grid_search.predict(X_test)\n",
    "\n",
    "# If y_pred is > 0.5 then true, else false\n",
    "y_pred = (y_pred > 0.5)\n",
    "\n",
    "# Making the Confusion Matrix\n",
    "from sklearn.metrics import confusion_matrix\n",
    "cm = confusion_matrix(y_test, y_pred)\n",
    "\n",
    "print(cm)"
   ]
  },
  {
   "cell_type": "code",
   "execution_count": 42,
   "metadata": {},
   "outputs": [
    {
     "data": {
      "image/png": "[encoded data removed]",
      "text/plain": [
       "<matplotlib.figure.Figure at 0x1a3ede2898>"
      ]
     },
     "metadata": {},
     "output_type": "display_data"
    }
   ],
   "source": [
    "# Compute ROC curve and ROC area for each class\n",
    "from sklearn.metrics import roc_auc_score, roc_curve, auc, classification_report\n",
    "from matplotlib import pyplot as plt\n",
    "false_positive, true_positive, _ = roc_curve(y_test, y_pred)\n",
    "\n",
    "plt.figure()\n",
    "plt.plot([0, 1], [0, 1], 'k--')\n",
    "plt.plot(false_positive, true_positive, color='darkorange', label='Random Forest')\n",
    "plt.xlabel('False positive rate')\n",
    "plt.ylabel('True positive rate')\n",
    "plt.title('ROC curve of ANN')\n",
    "plt.legend(loc='best')\n",
    "plt.show()"
   ]
  },
  {
   "cell_type": "markdown",
   "metadata": {},
   "source": [
    "The model has a lot of false negatives."
   ]
  },
  {
   "cell_type": "markdown",
   "metadata": {},
   "source": [
    "# Second trial to run a different model -- random forest"
   ]
  },
  {
   "cell_type": "code",
   "execution_count": 43,
   "metadata": {},
   "outputs": [],
   "source": [
    "from sklearn.ensemble import RandomForestClassifier\n",
    "from sklearn.datasets import make_classification"
   ]
  },
  {
   "cell_type": "code",
   "execution_count": 44,
   "metadata": {},
   "outputs": [
    {
     "name": "stdout",
     "output_type": "stream",
     "text": [
      "[0.06068193 0.25207992 0.07821236 0.07956198 0.06927419 0.15830138\n",
      " 0.10792756 0.19396068]\n",
      "[[110  20]\n",
      " [ 24  38]]\n"
     ]
    }
   ],
   "source": [
    "clf = RandomForestClassifier(max_depth=8, random_state=0)\n",
    "clf.fit(X_train, y_train)\n",
    "\n",
    "RandomForestClassifier(bootstrap=True, class_weight=None, criterion='gini', max_depth=8, max_features='auto', \n",
    "                       max_leaf_nodes=None, min_impurity_decrease=0.0, min_impurity_split=None, min_samples_leaf=1, \n",
    "                       min_samples_split=2, min_weight_fraction_leaf=0.0, n_estimators=10, n_jobs=1, oob_score=False, \n",
    "                       random_state=0, verbose=0, warm_start=False)\n",
    "\n",
    "print(clf.feature_importances_)\n",
    "\n",
    "# Make prediction\n",
    "y_pred = clf.predict(X_test)\n",
    "cm = confusion_matrix(y_test, y_pred)\n",
    "print(cm)"
   ]
  },
  {
   "cell_type": "markdown",
   "metadata": {},
   "source": [
    "In this case we can get an accuracy of 77% defined as sum(diagonal) / sum(all elements in matrix)"
   ]
  },
  {
   "cell_type": "code",
   "execution_count": 45,
   "metadata": {},
   "outputs": [
    {
     "data": {
      "image/png": "[encoded data removed]",
      "text/plain": [
       "<matplotlib.figure.Figure at 0x1a3ed16320>"
      ]
     },
     "metadata": {},
     "output_type": "display_data"
    }
   ],
   "source": [
    "# Compute ROC curve and ROC area for each class\n",
    "from sklearn.metrics import roc_auc_score, roc_curve, auc, classification_report\n",
    "from matplotlib import pyplot as plt\n",
    "false_positive, true_positive, _ = roc_curve(y_test, y_pred)\n",
    "\n",
    "plt.figure()\n",
    "plt.plot([0, 1], [0, 1], 'k--')\n",
    "plt.plot(false_positive, true_positive, color='darkorange', label='Random Forest')\n",
    "plt.xlabel('False positive rate')\n",
    "plt.ylabel('True positive rate')\n",
    "plt.title('ROC curve of Random Forest')\n",
    "plt.legend(loc='best')\n",
    "plt.show()"
   ]
  },
  {
   "cell_type": "markdown",
   "metadata": {},
   "source": [
    "# Conclusion and Recommendation\n",
    "\n",
    "## Conclusion\n",
    "\n",
    "Making predictions relating to diabetes occurance is a possibility and the model selected is very important.\n",
    "\n",
    "In this case, we ran the test against both Artificial Neural Network and Random Forest and it seems that random forest is much better in making the prediction.\n",
    "\n",
    "## Recommendation and Next Step\n",
    "\n",
    "1. Predicting to see if folks may get diabetes is possible and therefore we should go ahead and build a model\n",
    "2. We should test a few other models to figure out which one may be a good fit for prediction. In addition, we should vary the models that we built to see if parameter tuning can help with increased accuracy.\n",
    "a. Ideally we'd like to get models that has higher accuracy and we should strive to get as low of false negatives as possible (folks who may get diabetes but we predicted them as no).\n",
    "b. Corrollary: It is better to have false positive as opposed to false negative\n",
    "3. Once we build a model and predict if a person will get diabetes, we should use unsupervised machine learning techniques to cluster and understand why someone maybe predicted to have diabetes.\n",
    "4. With that, we can figure out what product improvements / new products we can make in order to help folks pay attention to their increased risk of getting diabetes\n",
    "5. We can then build a UI to recommend folks what course of actions to take to prevent diabetes"
   ]
  },
  {
   "cell_type": "code",
   "execution_count": null,
   "metadata": {},
   "outputs": [],
   "source": []
  }
 ],
 "metadata": {
  "kernelspec": {
   "display_name": "Python 3",
   "language": "python",
   "name": "python3"
  },
  "language_info": {
   "codemirror_mode": {
    "name": "ipython",
    "version": 3
   },
   "file_extension": ".py",
   "mimetype": "text/x-python",
   "name": "python",
   "nbconvert_exporter": "python",
   "pygments_lexer": "ipython3",
   "version": "3.6.4"
  }
 },
 "nbformat": 4,
 "nbformat_minor": 2
}
